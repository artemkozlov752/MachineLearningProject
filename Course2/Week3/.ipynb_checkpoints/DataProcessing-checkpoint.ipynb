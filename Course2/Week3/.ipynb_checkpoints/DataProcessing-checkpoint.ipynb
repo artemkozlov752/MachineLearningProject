{
 "cells": [
  {
   "cell_type": "code",
   "execution_count": 1,
   "metadata": {},
   "outputs": [],
   "source": [
    "import os\n",
    "import pandas as pd\n",
    "import numpy as np\n",
    "import matplotlib\n",
    "from matplotlib import pyplot as plt\n",
    "from tabulate import tabulate\n",
    "matplotlib.style.use('ggplot')\n",
    "%matplotlib inline"
   ]
  },
  {
   "cell_type": "code",
   "execution_count": null,
   "metadata": {},
   "outputs": [],
   "source": [
    "ANSWER_PATH = 'answers'\n",
    "path = os.path.join(\n",
    "    'datasets',\n",
    "    'data.csv'\n",
    ")\n",
    "data = pd.read_csv(path)\n",
    "X = data.drop('Grant.Status', 1)\n",
    "y = data['Grant.Status']"
   ]
  },
  {
   "cell_type": "code",
   "execution_count": 3,
   "metadata": {},
   "outputs": [],
   "source": [
    "numeric_cols = ['RFCD.Percentage.1', 'RFCD.Percentage.2', 'RFCD.Percentage.3', \n",
    "                'RFCD.Percentage.4', 'RFCD.Percentage.5',\n",
    "                'SEO.Percentage.1', 'SEO.Percentage.2', 'SEO.Percentage.3',\n",
    "                'SEO.Percentage.4', 'SEO.Percentage.5',\n",
    "                'Year.of.Birth.1', 'Number.of.Successful.Grant.1', 'Number.of.Unsuccessful.Grant.1']\n",
    "categorical_cols = list(set(X.columns.values.tolist()) - set(numeric_cols))"
   ]
  },
  {
   "cell_type": "code",
   "execution_count": 4,
   "metadata": {},
   "outputs": [
    {
     "data": {
      "text/plain": [
       "(213, 39)"
      ]
     },
     "execution_count": 4,
     "metadata": {},
     "output_type": "execute_result"
    }
   ],
   "source": [
    "data.dropna().shape"
   ]
  },
  {
   "cell_type": "markdown",
   "metadata": {},
   "source": [
    "# Processing Missing Values.\n",
    "1. Fill with zeros and with means\n",
    "2. Categorical columns are modified to str."
   ]
  },
  {
   "cell_type": "code",
   "execution_count": 7,
   "metadata": {},
   "outputs": [],
   "source": [
    "means = X[numeric_cols].mean(axis=0)\n",
    "X_real_zeros = X[numeric_cols].fillna(0)\n",
    "X_real_mean = X[numeric_cols].fillna(means)\n",
    "X_cat = X[categorical_cols].astype(str)"
   ]
  },
  {
   "cell_type": "code",
   "execution_count": 8,
   "metadata": {},
   "outputs": [],
   "source": [
    "from sklearn.feature_extraction import DictVectorizer as DV\n",
    "encoder = DV(sparse = False)\n",
    "X_cat_oh = encoder.fit_transform(X_cat.T.to_dict().values())"
   ]
  },
  {
   "cell_type": "code",
   "execution_count": 9,
   "metadata": {},
   "outputs": [
    {
     "name": "stderr",
     "output_type": "stream",
     "text": [
      "C:\\Users\\artem\\PycharmProjects\\MachineLearning\\venv\\lib\\site-packages\\sklearn\\cross_validation.py:41: DeprecationWarning: This module was deprecated in version 0.18 in favor of the model_selection module into which all the refactored classes and functions are moved. Also note that the interface of the new CV iterators are different from that of this module. This module will be removed in 0.20.\n",
      "  \"This module will be removed in 0.20.\", DeprecationWarning)\n"
     ]
    }
   ],
   "source": [
    "from sklearn.cross_validation import train_test_split\n",
    "\n",
    "(X_train_real_zeros, \n",
    " X_test_real_zeros, \n",
    " y_train, y_test) = train_test_split(X_real_zeros, y, \n",
    "                                     test_size=0.3, \n",
    "                                     random_state=0)\n",
    "(X_train_real_mean, \n",
    " X_test_real_mean) = train_test_split(X_real_mean, \n",
    "                                      test_size=0.3, \n",
    "                                      random_state=0)\n",
    "(X_train_cat_oh,\n",
    " X_test_cat_oh) = train_test_split(X_cat_oh, \n",
    "                                   test_size=0.3, \n",
    "                                   random_state=0)"
   ]
  },
  {
   "cell_type": "markdown",
   "metadata": {},
   "source": [
    "# Compare roc-auc with fillna(means) and fillna(0)"
   ]
  },
  {
   "cell_type": "code",
   "execution_count": 11,
   "metadata": {},
   "outputs": [
    {
     "data": {
      "image/png": "[encoded data removed]",
      "text/plain": [
       "<Figure size 432x288 with 1 Axes>"
      ]
     },
     "metadata": {},
     "output_type": "display_data"
    },
    {
     "data": {
      "image/png": "[encoded data removed]",
      "text/plain": [
       "<Figure size 432x288 with 1 Axes>"
      ]
     },
     "metadata": {},
     "output_type": "display_data"
    },
    {
     "name": "stdout",
     "output_type": "stream",
     "text": [
      "+----------------+-----------------+\n",
      "|  filling type  |   roc_auc_score |\n",
      "+================+=================+\n",
      "|     Means      |         0.88543 |\n",
      "+----------------+-----------------+\n",
      "|     Zeros      |         0.88453 |\n",
      "+----------------+-----------------+\n"
     ]
    }
   ],
   "source": [
    "from sklearn.linear_model import LogisticRegression\n",
    "from sklearn.grid_search import GridSearchCV\n",
    "from sklearn.metrics import roc_auc_score\n",
    "\n",
    "def plot_scores(optimizer):\n",
    "    scores = [[item[0]['C'], \n",
    "               item[1], \n",
    "               (np.sum((item[2]-item[1])**2)/(item[2].size-1))**0.5] for item in optimizer.grid_scores_]\n",
    "    scores = np.array(scores)\n",
    "    plt.semilogx(scores[:,0], scores[:,1])\n",
    "    plt.fill_between(scores[:,0], scores[:,1]-scores[:,2], \n",
    "                                  scores[:,1]+scores[:,2], alpha=0.3)\n",
    "    plt.show()\n",
    "    \n",
    "def write_answer_1(auc_1, auc_2):\n",
    "    auc = (auc_1 + auc_2)/2\n",
    "    answer_path = os.path.join(\n",
    "        ANSWER_PATH,\n",
    "        \"answer1.txt\"\n",
    "    )\n",
    "    with open(answer_path, \"w\") as fout:\n",
    "        fout.write(str(auc))\n",
    "        \n",
    "param_grid = {\n",
    "    'C': [0.01, 0.05, 0.1, 0.5, 1, 5, 10]\n",
    "}\n",
    "cv = 3\n",
    "\n",
    "#1\n",
    "train_zeros = np.hstack([X_train_real_zeros, X_train_cat_oh])\n",
    "train_means = np.hstack([X_train_real_mean, X_train_cat_oh])\n",
    "\n",
    "test_zeros = np.hstack([X_test_real_zeros, X_test_cat_oh])\n",
    "test_means = np.hstack([X_test_real_mean, X_test_cat_oh])\n",
    "\n",
    "#2\n",
    "estimator = LogisticRegression()\n",
    "grid_cv_zeros = GridSearchCV(estimator, param_grid, cv = cv)\n",
    "grid_cv_zeros.fit(train_zeros, y_train)\n",
    "\n",
    "estimator = LogisticRegression()\n",
    "grid_cv_means = GridSearchCV(estimator, param_grid, cv = cv)\n",
    "grid_cv_means.fit(train_means, y_train)\n",
    "\n",
    "#3\n",
    "plot_scores(grid_cv_zeros)\n",
    "plot_scores(grid_cv_means)\n",
    "\n",
    "#4\n",
    "y_predict_zeros = grid_cv_zeros.predict_proba(test_zeros)[:, 1]\n",
    "y_predict_means = grid_cv_means.predict_proba(test_means)[:, 1]\n",
    "\n",
    "roc_zeros = roc_auc_score(\n",
    "    y_score=y_predict_zeros,\n",
    "    y_true=y_test\n",
    ")\n",
    "roc_means = roc_auc_score(\n",
    "    y_score=y_predict_means, \n",
    "    y_true=y_test\n",
    ")\n",
    "\n",
    "rows = [\n",
    "    \"Means\",\n",
    "    \"Zeros\"\n",
    "]\n",
    "\n",
    "auc_scores = [\n",
    "    round(roc_means, 5),\n",
    "    round(roc_zeros, 5)\n",
    "]\n",
    "\n",
    "print(\n",
    "    tabulate(\n",
    "        zip(rows, auc_scores),\n",
    "        headers = ['filling type', 'roc_auc_score'],\n",
    "        tablefmt='grid',\n",
    "        stralign='center'\n",
    "    )\n",
    ")\n",
    "\n",
    "#5\n",
    "write_answer_1(roc_means, roc_zeros)"
   ]
  },
  {
   "cell_type": "markdown",
   "metadata": {},
   "source": [
    "# Scaling."
   ]
  },
  {
   "cell_type": "code",
   "execution_count": 12,
   "metadata": {
    "scrolled": false
   },
   "outputs": [],
   "source": [
    "from sklearn.preprocessing import StandardScaler\n",
    "scaler = StandardScaler(with_mean=0)\n",
    "X_train_real_scaled = scaler.fit_transform(X_train_real_mean)\n",
    "X_test_real_scaled = scaler.fit_transform(X_test_real_mean)"
   ]
  },
  {
   "cell_type": "markdown",
   "metadata": {},
   "source": [
    "# The best algorithm is with means. Use scaling"
   ]
  },
  {
   "cell_type": "code",
   "execution_count": 13,
   "metadata": {},
   "outputs": [
    {
     "data": {
      "image/png": "[encoded data removed]",
      "text/plain": [
       "<Figure size 432x288 with 1 Axes>"
      ]
     },
     "metadata": {},
     "output_type": "display_data"
    },
    {
     "name": "stdout",
     "output_type": "stream",
     "text": [
      "0.8843489644880722\n"
     ]
    }
   ],
   "source": [
    "def write_answer_2(auc):\n",
    "    answer_path = os.path.join(\n",
    "        ANSWER_PATH,\n",
    "        \"answer2.txt\"\n",
    "    )\n",
    "    with open(answer_path, \"w\") as fout:\n",
    "        fout.write(str(auc))\n",
    "        \n",
    "        \n",
    "param_grid = {\n",
    "    'C': [0.01, 0.05, 0.1, 0.5, 1, 5, 10]\n",
    "}\n",
    "cv = 3\n",
    "\n",
    "\n",
    "train_scaled = np.hstack([X_train_real_scaled, X_train_cat_oh])\n",
    "test_scaled = np.hstack([X_test_real_scaled, X_test_cat_oh])\n",
    "\n",
    "estimator_scaled = LogisticRegression()\n",
    "grid_cv_scaled = GridSearchCV(estimator_scaled, param_grid, cv = cv)\n",
    "grid_cv_scaled.fit(train_scaled, y_train)\n",
    "\n",
    "plot_scores(grid_cv_scaled)\n",
    "\n",
    "y_predict_mean_scaled = grid_cv_scaled.predict_proba(test_scaled)[:, 1]\n",
    "\n",
    "roc_mean_scaled = roc_auc_score(\n",
    "    y_score=y_predict_mean_scaled,\n",
    "    y_true=y_test\n",
    ")\n",
    "\n",
    "print(roc_mean_scaled)\n",
    "\n",
    "#5\n",
    "write_answer_2(roc_mean_scaled)"
   ]
  },
  {
   "cell_type": "markdown",
   "metadata": {},
   "source": [
    "# Class Balancing"
   ]
  },
  {
   "cell_type": "code",
   "execution_count": 14,
   "metadata": {},
   "outputs": [
    {
     "name": "stdout",
     "output_type": "stream",
     "text": [
      "2316\n",
      "1884\n"
     ]
    }
   ],
   "source": [
    "print(np.sum(y_train==0))\n",
    "print(np.sum(y_train==1))"
   ]
  },
  {
   "cell_type": "markdown",
   "metadata": {},
   "source": [
    "## Задание 3. Балансировка классов.\n",
    "1. Обучите логистическую регрессию и гиперпараметры с балансировкой классов, используя веса (параметр class_weight='balanced' регрессии) на отмасштабированных выборках, полученных в предыдущем задании. Убедитесь, что вы нашли максимум accuracy по гиперпараметрам.\n",
    "2. Получите метрику ROC AUC на тестовой выборке.\n",
    "3. Сбалансируйте выборку, досэмплировав в неё объекты из меньшего класса. Для получения индексов объектов, которые требуется добавить в обучающую выборку, используйте следующую комбинацию вызовов функций:\n",
    "        np.random.seed(0)\n",
    "        indices_to_add = np.random.randint(...)\n",
    "        X_train_to_add = X_train[y_train.as_matrix() == 1,:][indices_to_add,:]\n",
    "   После этого добавьте эти объекты в начало или конец обучающей выборки. Дополните соответствующим      образом вектор ответов.\n",
    "4. Получите метрику ROC AUC на тестовой выборке, сравните с предыдущим результатом.\n",
    "5. Внесите ответы в выходной файл при помощи функции write_asnwer_3, передав в неё сначала ROC AUC для балансировки весами, а потом балансировки выборки вручную."
   ]
  },
  {
   "cell_type": "code",
   "execution_count": 15,
   "metadata": {},
   "outputs": [
    {
     "data": {
      "image/png": "[encoded data removed]",
      "text/plain": [
       "<Figure size 432x288 with 1 Axes>"
      ]
     },
     "metadata": {},
     "output_type": "display_data"
    },
    {
     "name": "stdout",
     "output_type": "stream",
     "text": [
      "First Balanced Method\n",
      "{'C': 0.1} 0.8867581677186565\n"
     ]
    },
    {
     "name": "stderr",
     "output_type": "stream",
     "text": [
      "C:\\Users\\artem\\PycharmProjects\\MachineLearning\\venv\\lib\\site-packages\\ipykernel_launcher.py:30: FutureWarning: Method .as_matrix will be removed in a future version. Use .values instead.\n"
     ]
    },
    {
     "data": {
      "image/png": "[encoded data removed]",
      "text/plain": [
       "<Figure size 432x288 with 1 Axes>"
      ]
     },
     "metadata": {},
     "output_type": "display_data"
    },
    {
     "name": "stdout",
     "output_type": "stream",
     "text": [
      "Second Balanced Method\n",
      "{'C': 1} 0.8836213776880806\n"
     ]
    }
   ],
   "source": [
    "def write_answer_3(auc_1, auc_2):\n",
    "    auc = (auc_1 + auc_2) / 2\n",
    "    answer_path = os.path.join(\n",
    "        ANSWER_PATH,\n",
    "        \"answer3.txt\"\n",
    "    )\n",
    "    with open(answer_path, \"w\") as fout:\n",
    "        fout.write(str(auc))\n",
    "\n",
    "#1\n",
    "estimator_scaled = LogisticRegression(class_weight='balanced')\n",
    "grid_cv_scaled = GridSearchCV(estimator_scaled, param_grid, cv = cv)\n",
    "grid_cv_scaled.fit(train_scaled, y_train)\n",
    "\n",
    "plot_scores(grid_cv_scaled)\n",
    "\n",
    "y_predict_scaled = grid_cv_scaled.predict_proba(test_scaled)[:, 1]\n",
    "\n",
    "#2\n",
    "roc_balanced_first_method = roc_auc_score(\n",
    "    y_score=y_predict_scaled,\n",
    "    y_true=y_test\n",
    ")\n",
    "print(\"First Balanced Method\")\n",
    "print(grid_cv_scaled.best_params_, roc_balanced_first_method)\n",
    "\n",
    "#3\n",
    "np.random.seed(0)\n",
    "indices_to_add = np.random.randint(np.sum(y_train==1), size = (np.sum(y_train==0) - np.sum(y_train==1)))\n",
    "X_train_to_add = train_scaled[y_train.as_matrix() == 1,:][indices_to_add,:]\n",
    "y_train_to_add = np.repeat(1, np.sum(y_train==0) - np.sum(y_train==1)).T\n",
    "\n",
    "X_train_sampled = np.vstack([train_scaled, X_train_to_add])\n",
    "y_train_sampled = np.hstack([y_train, y_train_to_add])\n",
    "\n",
    "#4\n",
    "estimator_scaled = LogisticRegression()\n",
    "grid_cv_scaled = GridSearchCV(estimator_scaled, param_grid, cv = cv)\n",
    "grid_cv_scaled.fit(X_train_sampled, y_train_sampled)\n",
    "\n",
    "plot_scores(grid_cv_scaled)\n",
    "\n",
    "y_predict_scaled = grid_cv_scaled.predict_proba(test_scaled)[:, 1]\n",
    "\n",
    "#5\n",
    "roc_balanced_second_method = roc_auc_score(\n",
    "    y_score=y_predict_scaled,\n",
    "    y_true=y_test\n",
    ")\n",
    "\n",
    "print(\"Second Balanced Method\")\n",
    "print(grid_cv_scaled.best_params_, roc_balanced_second_method)\n",
    "\n",
    "write_answer_3(roc_balanced_first_method, roc_balanced_second_method)"
   ]
  },
  {
   "cell_type": "markdown",
   "metadata": {},
   "source": [
    "# Sample's stratified"
   ]
  },
  {
   "cell_type": "code",
   "execution_count": 16,
   "metadata": {},
   "outputs": [
    {
     "data": {
      "image/png": "[encoded data removed]",
      "text/plain": [
       "<Figure size 432x288 with 1 Axes>"
      ]
     },
     "metadata": {},
     "output_type": "display_data"
    },
    {
     "name": "stdout",
     "output_type": "stream",
     "text": [
      "{'C': 0.1} 0.8793163713621821\n"
     ]
    }
   ],
   "source": [
    "def write_answer_4(auc):\n",
    "    answer_path = os.path.join(\n",
    "        ANSWER_PATH,\n",
    "        \"answer4.txt\"\n",
    "    )\n",
    "    with open(answer_path, \"w\") as fout:\n",
    "        fout.write(str(auc))\n",
    "        \n",
    "#1\n",
    "\n",
    "(X_train_real, \n",
    " X_test_real, \n",
    " y_train, y_test) = train_test_split(X_real_mean, y, \n",
    "                                     test_size=0.3,\n",
    "                                     stratify=y,\n",
    "                                     random_state=0)\n",
    "\n",
    "\n",
    "(X_train_cat_oh,\n",
    " X_test_cat_oh) = train_test_split(X_cat_oh,\n",
    "                                   test_size=0.3, \n",
    "                                   stratify=y,\n",
    "                                   random_state=0)\n",
    "\n",
    "#2\n",
    "scaler = StandardScaler(with_mean=0)\n",
    "X_train_scaled = scaler.fit_transform(X_train_real)\n",
    "X_test_scaled = scaler.transform(X_test_real)\n",
    "\n",
    "\n",
    "X_train = np.hstack([X_train_scaled, X_train_cat_oh])\n",
    "X_test = np.hstack([X_test_scaled, X_test_cat_oh])\n",
    "\n",
    "\n",
    "estimator = LogisticRegression(class_weight='balanced')\n",
    "grid_cv = GridSearchCV(estimator, param_grid, cv = cv)\n",
    "grid_cv.fit(X_train, y_train)\n",
    "plot_scores(grid_cv)\n",
    "y_predict = grid_cv.predict_proba(X_test)[:, 1]\n",
    "\n",
    "\n",
    "#3\n",
    "roc_score = roc_auc_score(\n",
    "    y_score=y_predict,\n",
    "    y_true=y_test\n",
    ")\n",
    "print(grid_cv.best_params_, roc_score)\n",
    "\n",
    "\n",
    "#4\n",
    "write_answer_4(roc_score)"
   ]
  },
  {
   "cell_type": "markdown",
   "metadata": {},
   "source": [
    "# Feature transforming"
   ]
  },
  {
   "cell_type": "code",
   "execution_count": 17,
   "metadata": {},
   "outputs": [
    {
     "name": "stdout",
     "output_type": "stream",
     "text": [
      "{'C': 0.1} 0.8865459824160732\n"
     ]
    }
   ],
   "source": [
    "from sklearn.preprocessing import PolynomialFeatures\n",
    "\n",
    "def write_answer_5(auc):\n",
    "    answer_path = os.path.join(\n",
    "        ANSWER_PATH,\n",
    "        \"answer5.txt\"\n",
    "    )\n",
    "    with open(answer_path, \"w\") as fout:\n",
    "        fout.write(str(auc))\n",
    "\n",
    "        \n",
    "#1\n",
    "\n",
    "transform = PolynomialFeatures(2)\n",
    "X_train_poly = transform.fit_transform(X_train_real)\n",
    "X_test_poly = transform.transform(X_test_real)\n",
    "scaler = StandardScaler(with_mean=0)\n",
    "X_train_poly_scaled = scaler.fit_transform(X_train_poly)\n",
    "X_test_poly_scaled = scaler.fit_transform(X_test_poly)\n",
    "\n",
    "X_train = np.concatenate([X_train_poly_scaled, X_train_cat_oh], axis = 1)\n",
    "X_test =  np.concatenate([X_test_poly_scaled, X_test_cat_oh], axis = 1)\n",
    "\n",
    "\n",
    "#2\n",
    "\n",
    "estimator = LogisticRegression(class_weight='balanced', fit_intercept=False)\n",
    "optimizer = GridSearchCV(estimator, param_grid, cv=cv, n_jobs=-1)\n",
    "optimizer.fit(X_train, y_train)\n",
    "predictions = optimizer.predict_proba(X_test)[:, 1]\n",
    "\n",
    "\n",
    "#3\n",
    "\n",
    "roc_score = roc_auc_score(\n",
    "    y_score=predictions,\n",
    "    y_true=y_test\n",
    ")\n",
    "print(grid_cv.best_params_, roc_score)\n",
    "\n",
    "\n",
    "#4\n",
    "\n",
    "write_answer_5(roc_score)"
   ]
  },
  {
   "cell_type": "markdown",
   "metadata": {},
   "source": [
    "# Lasso regression"
   ]
  },
  {
   "cell_type": "code",
   "execution_count": 18,
   "metadata": {},
   "outputs": [
    {
     "name": "stdout",
     "output_type": "stream",
     "text": [
      "{'C': 0.5} 0.880618746237169\n"
     ]
    }
   ],
   "source": [
    "def write_answer_6(features):\n",
    "    answer_path = os.path.join(\n",
    "        ANSWER_PATH,\n",
    "        \"answer6.txt\"\n",
    "    )\n",
    "    with open(answer_path, \"w\") as fout:\n",
    "        fout.write(\" \".join([str(num) for num in features]))\n",
    "\n",
    "\n",
    "X_train = np.hstack([X_train_scaled, X_train_cat_oh])\n",
    "X_test = np.hstack([X_test_scaled, X_test_cat_oh])\n",
    "\n",
    "\n",
    "estimator = LogisticRegression(penalty='l1', class_weight='balanced', fit_intercept=False)\n",
    "grid_cv = GridSearchCV(estimator, param_grid, cv = cv, n_jobs=-1)\n",
    "grid_cv.fit(X_train, y_train)\n",
    "y_predict = grid_cv.predict_proba(X_test)[:, 1]\n",
    "\n",
    "roc_score = roc_auc_score(\n",
    "    y_true=y_test,\n",
    "    y_score=y_predict\n",
    ")\n",
    "print(grid_cv.best_params_, roc_score)"
   ]
  },
  {
   "cell_type": "code",
   "execution_count": 19,
   "metadata": {
    "scrolled": true
   },
   "outputs": [
    {
     "name": "stdout",
     "output_type": "stream",
     "text": [
      "[1, 6, 7]\n"
     ]
    }
   ],
   "source": [
    "logistic_regression_coef = grid_cv.best_estimator_.coef_[0, 0: X_train_scaled.shape[1]]\n",
    "zero_coefs = np.where(logistic_regression_coef==0)\n",
    "print(list(zero_coefs[0]))\n",
    "write_answer_6(list(zero_coefs[0]))"
   ]
  },
  {
   "cell_type": "code",
   "execution_count": null,
   "metadata": {},
   "outputs": [],
   "source": []
  }
 ],
 "metadata": {
  "kernelspec": {
   "display_name": "Python 3",
   "language": "python",
   "name": "python3"
  },
  "language_info": {
   "codemirror_mode": {
    "name": "ipython",
    "version": 3
   },
   "file_extension": ".py",
   "mimetype": "text/x-python",
   "name": "python",
   "nbconvert_exporter": "python",
   "pygments_lexer": "ipython3",
   "version": "3.6.5"
  }
 },
 "nbformat": 4,
 "nbformat_minor": 1
}
