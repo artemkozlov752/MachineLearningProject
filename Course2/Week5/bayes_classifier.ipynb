{
 "cells": [
  {
   "cell_type": "code",
   "execution_count": null,
   "metadata": {},
   "outputs": [],
   "source": [
    "%matplotlib inline\n",
    "\n",
    "import os\n",
    "import random\n",
    "import numpy as np\n",
    "import matplotlib.pyplot as plt\n",
    "from sklearn import datasets\n",
    "from sklearn.model_selection import cross_val_score\n",
    "from sklearn.naive_bayes import BernoulliNB, MultinomialNB, GaussianNB"
   ]
  },
  {
   "cell_type": "code",
   "execution_count": 5,
   "metadata": {},
   "outputs": [],
   "source": [
    "ANSWER_PATH = 'answers'"
   ]
  },
  {
   "cell_type": "code",
   "execution_count": 15,
   "metadata": {},
   "outputs": [],
   "source": [
    "def write_single_answer(answer, task_number):\n",
    "    answer_path = os.path.join(\n",
    "        ANSWER_PATH,\n",
    "        f\"naive_bayes_answer_{task_number}.txt\"\n",
    "    )\n",
    "    with open(answer_path, \"w\") as fout:\n",
    "        fout.write(str(answer))"
   ]
  },
  {
   "cell_type": "code",
   "execution_count": 6,
   "metadata": {},
   "outputs": [],
   "source": [
    "digits = datasets.load_digits()\n",
    "breast_cancer = datasets.load_breast_cancer()\n",
    "X_digits = digits['data']\n",
    "y_digits = digits['target']\n",
    "\n",
    "X_breast_cancer = breast_cancer['data']\n",
    "y_breast_cancer = breast_cancer['target']"
   ]
  },
  {
   "cell_type": "code",
   "execution_count": 20,
   "metadata": {},
   "outputs": [
    {
     "data": {
      "text/plain": [
       "array([[ 0.,  0.,  5., ...,  0.,  0.,  0.],\n",
       "       [ 0.,  0.,  0., ..., 10.,  0.,  0.],\n",
       "       [ 0.,  0.,  0., ..., 16.,  9.,  0.],\n",
       "       ...,\n",
       "       [ 0.,  0.,  1., ...,  6.,  0.,  0.],\n",
       "       [ 0.,  0.,  2., ..., 12.,  0.,  0.],\n",
       "       [ 0.,  0., 10., ..., 12.,  1.,  0.]])"
      ]
     },
     "execution_count": 20,
     "metadata": {},
     "output_type": "execute_result"
    }
   ],
   "source": [
    "X_digits"
   ]
  },
  {
   "cell_type": "markdown",
   "metadata": {},
   "source": [
    "# Naive Bayes"
   ]
  },
  {
   "cell_type": "code",
   "execution_count": 11,
   "metadata": {},
   "outputs": [],
   "source": [
    "clf_naive_bayes = [\n",
    "    BernoulliNB,\n",
    "    MultinomialNB,\n",
    "    GaussianNB\n",
    "]"
   ]
  },
  {
   "cell_type": "code",
   "execution_count": 19,
   "metadata": {},
   "outputs": [],
   "source": [
    "digits_scores = list()\n",
    "breast_cancer_scores = list()\n",
    "\n",
    "for naive_bayes_method in clf_naive_bayes:\n",
    "    clf = naive_bayes_method()\n",
    "    clf_score_digits = cross_val_score(\n",
    "        clf,\n",
    "        X_digits,\n",
    "        y_digits\n",
    "    )\n",
    "            \n",
    "    digits_scores.append(\n",
    "        clf_score_digits.mean()\n",
    "    )\n",
    "    \n",
    "    clf_score_breast_cancer = cross_val_score(\n",
    "        clf,\n",
    "        X_breast_cancer,\n",
    "        y_breast_cancer\n",
    "    )\n",
    "    breast_cancer_scores.append(\n",
    "        clf_score_breast_cancer.mean()\n",
    "    )\n",
    "\n",
    "write_single_answer(max(breast_cancer_scores), 1)\n",
    "write_single_answer(max(digits_scores), 2)"
   ]
  },
  {
   "cell_type": "code",
   "execution_count": null,
   "metadata": {},
   "outputs": [],
   "source": []
  }
 ],
 "metadata": {
  "kernelspec": {
   "display_name": "Python 3",
   "language": "python",
   "name": "python3"
  },
  "language_info": {
   "codemirror_mode": {
    "name": "ipython",
    "version": 3
   },
   "file_extension": ".py",
   "mimetype": "text/x-python",
   "name": "python",
   "nbconvert_exporter": "python",
   "pygments_lexer": "ipython3",
   "version": "3.6.5"
  }
 },
 "nbformat": 4,
 "nbformat_minor": 1
}
