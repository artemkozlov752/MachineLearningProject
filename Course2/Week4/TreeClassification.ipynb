{
 "cells": [
  {
   "cell_type": "code",
   "execution_count": null,
   "metadata": {},
   "outputs": [
    {
     "name": "stderr",
     "output_type": "stream",
     "text": [
      "C:\\Users\\artem\\PycharmProjects\\MachineLearning\\venv\\lib\\site-packages\\sklearn\\ensemble\\weight_boosting.py:29: DeprecationWarning: numpy.core.umath_tests is an internal NumPy module and should not be imported. It will be removed in a future NumPy release.\n",
      "  from numpy.core.umath_tests import inner1d\n",
      "C:\\Users\\artem\\PycharmProjects\\MachineLearning\\venv\\lib\\site-packages\\sklearn\\cross_validation.py:41: DeprecationWarning: This module was deprecated in version 0.18 in favor of the model_selection module into which all the refactored classes and functions are moved. Also note that the interface of the new CV iterators are different from that of this module. This module will be removed in 0.20.\n",
      "  \"This module will be removed in 0.20.\", DeprecationWarning)\n",
      "C:\\Users\\artem\\PycharmProjects\\MachineLearning\\venv\\lib\\site-packages\\sklearn\\learning_curve.py:22: DeprecationWarning: This module was deprecated in version 0.18 in favor of the model_selection module into which all the functions are moved. This module will be removed in 0.20\n",
      "  DeprecationWarning)\n"
     ]
    }
   ],
   "source": [
    "import os\n",
    "import numpy as np\n",
    "import pandas as pd\n",
    "import matplotlib.pyplot as plt\n",
    "from sklearn import datasets, ensemble, learning_curve\n",
    "from sklearn.model_selection import cross_val_score\n",
    "from sklearn.tree import DecisionTreeClassifier"
   ]
  },
  {
   "cell_type": "code",
   "execution_count": 2,
   "metadata": {},
   "outputs": [],
   "source": [
    "K = 10\n",
    "TREES_AMOUNT = 100\n",
    "ANSWER_PATH = 'answers'\n",
    "\n",
    "def write_single_answer(answer, task_number):\n",
    "    answer_path = os.path.join(\n",
    "        ANSWER_PATH,\n",
    "        f\"answer{task_number}.txt\"\n",
    "    )\n",
    "    with open(answer_path, \"w\") as fout:\n",
    "        fout.write(str(answer))"
   ]
  },
  {
   "cell_type": "markdown",
   "metadata": {},
   "source": [
    "# Dataset Reading"
   ]
  },
  {
   "cell_type": "code",
   "execution_count": 3,
   "metadata": {},
   "outputs": [
    {
     "name": "stdout",
     "output_type": "stream",
     "text": [
      "dict_keys(['data', 'target', 'target_names', 'images', 'DESCR'])\n"
     ]
    }
   ],
   "source": [
    "digits = datasets.load_digits()\n",
    "print(digits.keys())\n",
    "X = digits['data']\n",
    "y = digits['target']"
   ]
  },
  {
   "cell_type": "markdown",
   "metadata": {},
   "source": [
    "# Decision Tree Clasifier"
   ]
  },
  {
   "cell_type": "code",
   "execution_count": 4,
   "metadata": {},
   "outputs": [
    {
     "name": "stdout",
     "output_type": "stream",
     "text": [
      "0.8259538045041637\n"
     ]
    }
   ],
   "source": [
    "decision_tree_classifier = DecisionTreeClassifier()\n",
    "scores = cross_val_score(decision_tree_classifier, X, y, cv=K)\n",
    "average_score = scores.mean()\n",
    "print(average_score)\n",
    "write_single_answer(average_score, 1)"
   ]
  },
  {
   "cell_type": "markdown",
   "metadata": {},
   "source": [
    "# Bagging Classifier "
   ]
  },
  {
   "cell_type": "code",
   "execution_count": 5,
   "metadata": {},
   "outputs": [
    {
     "name": "stdout",
     "output_type": "stream",
     "text": [
      "0.9265230905701826\n"
     ]
    }
   ],
   "source": [
    "bagging_classifier = ensemble.BaggingClassifier(\n",
    "    decision_tree_classifier,\n",
    "    n_estimators=TREES_AMOUNT\n",
    ")\n",
    "\n",
    "scores = cross_val_score(bagging_classifier, X, y, cv=K)\n",
    "\n",
    "average_score = scores.mean()\n",
    "print(average_score)\n",
    "write_single_answer(average_score, 2)"
   ]
  },
  {
   "cell_type": "markdown",
   "metadata": {},
   "source": [
    "# Bagging Classifier (amount of features is equal to $\\sqrt d$)"
   ]
  },
  {
   "cell_type": "code",
   "execution_count": 6,
   "metadata": {},
   "outputs": [
    {
     "name": "stdout",
     "output_type": "stream",
     "text": [
      "0.9332526718416274\n"
     ]
    }
   ],
   "source": [
    "feature_amount = X.shape[1]\n",
    "max_features = int(np.sqrt(feature_amount))\n",
    "\n",
    "bagging_classifier = ensemble.BaggingClassifier(\n",
    "    decision_tree_classifier,\n",
    "    n_estimators=TREES_AMOUNT,\n",
    "    max_features=max_features\n",
    ")\n",
    "\n",
    "scores = cross_val_score(bagging_classifier, X, y, cv=K)\n",
    "\n",
    "average_score = scores.mean()\n",
    "print(average_score)\n",
    "write_single_answer(average_score, 3)"
   ]
  },
  {
   "cell_type": "markdown",
   "metadata": {},
   "source": [
    "# Random Forest as combination of Decision Tree and Bagging classifiers"
   ]
  },
  {
   "cell_type": "code",
   "execution_count": 7,
   "metadata": {},
   "outputs": [
    {
     "name": "stdout",
     "output_type": "stream",
     "text": [
      "0.9516713016565855\n"
     ]
    }
   ],
   "source": [
    "decision_tree_classifier = DecisionTreeClassifier(max_features=max_features)\n",
    "bagging_classifier = ensemble.BaggingClassifier(\n",
    "    decision_tree_classifier,\n",
    "    n_estimators=TREES_AMOUNT\n",
    ")\n",
    "\n",
    "scores = cross_val_score(bagging_classifier, X, y, cv=K)\n",
    "\n",
    "average_score = scores.mean()\n",
    "print(average_score)\n",
    "write_single_answer(average_score, 4)"
   ]
  },
  {
   "cell_type": "markdown",
   "metadata": {},
   "source": [
    "# Random Forest"
   ]
  },
  {
   "cell_type": "code",
   "execution_count": 8,
   "metadata": {},
   "outputs": [
    {
     "name": "stdout",
     "output_type": "stream",
     "text": [
      "0.9538853673209566\n"
     ]
    }
   ],
   "source": [
    "random_forest_classifier = ensemble.RandomForestClassifier(\n",
    "    n_estimators=TREES_AMOUNT,\n",
    "    max_features=max_features\n",
    ")\n",
    "scores = cross_val_score(random_forest_classifier, X, y, cv=K)\n",
    "average_score = scores.mean()\n",
    "print(average_score)"
   ]
  },
  {
   "cell_type": "markdown",
   "metadata": {},
   "source": [
    "# Random Forest analysis"
   ]
  },
  {
   "cell_type": "code",
   "execution_count": 9,
   "metadata": {},
   "outputs": [],
   "source": [
    "def plot_factor_dependence(x, y, title):\n",
    "    plt.figure()\n",
    "    plt.title(title)\n",
    "    plt.plot(x, y, color='green')\n",
    "    plt.show()"
   ]
  },
  {
   "cell_type": "code",
   "execution_count": 10,
   "metadata": {},
   "outputs": [],
   "source": [
    "trees_amount_range = np.arange(5, 100, 10)\n",
    "features_amount_range = np.arange(1, 45, 5)\n",
    "max_depth_range = np.arange(1, 100, 10)"
   ]
  },
  {
   "cell_type": "code",
   "execution_count": 11,
   "metadata": {},
   "outputs": [
    {
     "data": {
      "image/png": "[encoded data removed]",
      "text/plain": [
       "<Figure size 432x288 with 1 Axes>"
      ]
     },
     "metadata": {},
     "output_type": "display_data"
    }
   ],
   "source": [
    "tree_scores = list()\n",
    "for tree_amount in trees_amount_range:\n",
    "    random_forest_classifier = ensemble.RandomForestClassifier(\n",
    "        n_estimators=tree_amount,\n",
    "        max_features=max_features\n",
    "    )\n",
    "    scores = cross_val_score(random_forest_classifier, X, y, cv=K)\n",
    "    average_score = scores.mean()\n",
    "    tree_scores.append(average_score)\n",
    "plot_factor_dependence(trees_amount_range, tree_scores, \"Tree amount\")"
   ]
  },
  {
   "cell_type": "code",
   "execution_count": 12,
   "metadata": {},
   "outputs": [
    {
     "data": {
      "image/png": "[encoded data removed]",
      "text/plain": [
       "<Figure size 432x288 with 1 Axes>"
      ]
     },
     "metadata": {},
     "output_type": "display_data"
    }
   ],
   "source": [
    "feature_scores = list()\n",
    "for feature_amount in features_amount_range:\n",
    "    random_forest_classifier = ensemble.RandomForestClassifier(\n",
    "        n_estimators=TREES_AMOUNT,\n",
    "        max_features=feature_amount\n",
    "    )\n",
    "    scores = cross_val_score(random_forest_classifier, X, y, cv=K)\n",
    "    average_score = scores.mean()\n",
    "    feature_scores.append(average_score)\n",
    "plot_factor_dependence(features_amount_range, feature_scores, \"Feature amount\")"
   ]
  },
  {
   "cell_type": "code",
   "execution_count": 13,
   "metadata": {},
   "outputs": [
    {
     "data": {
      "image/png": "[encoded data removed]",
      "text/plain": [
       "<Figure size 432x288 with 1 Axes>"
      ]
     },
     "metadata": {},
     "output_type": "display_data"
    }
   ],
   "source": [
    "depth_scores = list()\n",
    "for depth in max_depth_range:\n",
    "    random_forest_classifier = ensemble.RandomForestClassifier(\n",
    "        n_estimators=TREES_AMOUNT,\n",
    "        max_features=max_features,\n",
    "        max_depth=depth\n",
    "    )\n",
    "    scores = cross_val_score(random_forest_classifier, X, y, cv=K)\n",
    "    average_score = scores.mean()\n",
    "    depth_scores.append(average_score)\n",
    "plot_factor_dependence(max_depth_range, depth_scores, \"Depth amount\")"
   ]
  },
  {
   "cell_type": "code",
   "execution_count": null,
   "metadata": {},
   "outputs": [],
   "source": []
  }
 ],
 "metadata": {
  "kernelspec": {
   "display_name": "Python 3",
   "language": "python",
   "name": "python3"
  },
  "language_info": {
   "codemirror_mode": {
    "name": "ipython",
    "version": 3
   },
   "file_extension": ".py",
   "mimetype": "text/x-python",
   "name": "python",
   "nbconvert_exporter": "python",
   "pygments_lexer": "ipython3",
   "version": "3.6.5"
  }
 },
 "nbformat": 4,
 "nbformat_minor": 2
}
